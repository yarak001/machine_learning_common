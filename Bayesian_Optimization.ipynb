{
  "nbformat": 4,
  "nbformat_minor": 0,
  "metadata": {
    "colab": {
      "provenance": [],
      "collapsed_sections": [],
      "authorship_tag": "ABX9TyNydbYdu9Hu9tUctZqRyvZI",
      "include_colab_link": true
    },
    "kernelspec": {
      "name": "python3",
      "display_name": "Python 3"
    },
    "language_info": {
      "name": "python"
    }
  },
  "cells": [
    {
      "cell_type": "markdown",
      "metadata": {
        "id": "view-in-github",
        "colab_type": "text"
      },
      "source": [
        "<a href=\"https://colab.research.google.com/github/yarak001/machine_learning_common/blob/main/Bayesian_Optimization.ipynb\" target=\"_parent\"><img src=\"https://colab.research.google.com/assets/colab-badge.svg\" alt=\"Open In Colab\"/></a>"
      ]
    },
    {
      "cell_type": "markdown",
      "source": [
        "# Bayesian Optimization\n",
        "* gaussian process를 사용한 bayesian global optimization libraray\n",
        "* 최대한 적은 iteration으로 최대값을 구하는 것이 목표\n",
        "## 원리\n",
        "* 최적화하려는 함수를 가장 살 설명하는 함수의 사후 분포(가우시안 프로세스)를 구성해 작동\n",
        "  * 관측치가 많아지면 사후 분포가 개선되고 파라미터 공간에서 탐색할 가치가 있는 영역과 그렇지 않은 영역이 더 명확해짐\n",
        "  ![Gaussian Process and Utility Function After 9 Step](https://github.com/fmfn/BayesianOptimization/raw/master/examples/bo_example.png)\n",
        "* 반복하면서 알고리즘은 target function에 대해 알고있던 것을 고려해 exploration과 exploitation을 조화시킴\n",
        "  * 각 단계에서 가우스 프로세스는 알려진 샘플에 fit되고 사후 분포는 탐사 전략(UCB), 또는 EI과 결합됨\n",
        "  ![Bayesian Optimization in Action](https://github.com/fmfn/BayesianOptimization/raw/master/examples/bayesian_optimization.gif)\n",
        "* 이 프로세스는 최적의 조합의 파라미터 조합을 찾는데 필요한 단계 수를 최소화 함\n",
        "  * 최적화할 함수를 샘플링하는 것이 매우 어려울 경우 적합\n",
        "\n",
        "  \n",
        "    "
      ],
      "metadata": {
        "id": "2MByNgUATlGT"
      }
    },
    {
      "cell_type": "code",
      "source": [
        "!pip install bayesian-optimization"
      ],
      "metadata": {
        "colab": {
          "base_uri": "https://localhost:8080/"
        },
        "id": "CKIWCjC1SdnN",
        "outputId": "7282d1a1-1f54-4d05-a93a-2b09f73b5eb3"
      },
      "execution_count": null,
      "outputs": [
        {
          "output_type": "stream",
          "name": "stdout",
          "text": [
            "Collecting bayesian-optimization\n",
            "  Downloading bayesian-optimization-1.2.0.tar.gz (14 kB)\n",
            "Requirement already satisfied: numpy>=1.9.0 in /usr/local/lib/python3.7/dist-packages (from bayesian-optimization) (1.21.5)\n",
            "Requirement already satisfied: scipy>=0.14.0 in /usr/local/lib/python3.7/dist-packages (from bayesian-optimization) (1.4.1)\n",
            "Requirement already satisfied: scikit-learn>=0.18.0 in /usr/local/lib/python3.7/dist-packages (from bayesian-optimization) (1.0.2)\n",
            "Requirement already satisfied: threadpoolctl>=2.0.0 in /usr/local/lib/python3.7/dist-packages (from scikit-learn>=0.18.0->bayesian-optimization) (3.1.0)\n",
            "Requirement already satisfied: joblib>=0.11 in /usr/local/lib/python3.7/dist-packages (from scikit-learn>=0.18.0->bayesian-optimization) (1.1.0)\n",
            "Building wheels for collected packages: bayesian-optimization\n",
            "  Building wheel for bayesian-optimization (setup.py) ... \u001b[?25l\u001b[?25hdone\n",
            "  Created wheel for bayesian-optimization: filename=bayesian_optimization-1.2.0-py3-none-any.whl size=11685 sha256=9a5dea29a8257c6230ee1a40e3b029b5d684e023e8fead26c2472c45796f81ea\n",
            "  Stored in directory: /root/.cache/pip/wheels/fd/9b/71/f127d694e02eb40bcf18c7ae9613b88a6be4470f57a8528c5b\n",
            "Successfully built bayesian-optimization\n",
            "Installing collected packages: bayesian-optimization\n",
            "Successfully installed bayesian-optimization-1.2.0\n"
          ]
        }
      ]
    },
    {
      "cell_type": "markdown",
      "source": [
        "1. 최적화 함수 정의"
      ],
      "metadata": {
        "id": "Psd8LlwjU7CT"
      }
    },
    {
      "cell_type": "code",
      "source": [
        "def black_box_function(x, y):\n",
        "    return -x ** 2 - (y - 1) ** 2 + 1"
      ],
      "metadata": {
        "id": "xDNEeCDnSCZt"
      },
      "execution_count": null,
      "outputs": []
    },
    {
      "cell_type": "markdown",
      "source": [
        "2. 최적화 시작"
      ],
      "metadata": {
        "id": "SK4RNnX3U_xT"
      }
    },
    {
      "cell_type": "code",
      "source": [
        "from bayes_opt import BayesianOptimization\n",
        "\n",
        "# 파라미터 경계 정의\n",
        "pbounds = {'x': (2, 4), 'y': (-3, 3)}\n",
        "\n",
        "optimizer = BayesianOptimization(\n",
        "    f=black_box_function,\n",
        "    pbounds=pbounds,\n",
        "    verbose=2, # verbose = 1 prints only when a maximum is observed, verbose = 0 is silent\n",
        "    random_state=1,\n",
        ")"
      ],
      "metadata": {
        "id": "HI8BqLauSKt9"
      },
      "execution_count": null,
      "outputs": []
    },
    {
      "cell_type": "code",
      "source": [
        "optimizer.maximize(\n",
        "    init_points=2,\n",
        "    n_iter=4,\n",
        ")"
      ],
      "metadata": {
        "colab": {
          "base_uri": "https://localhost:8080/"
        },
        "id": "jAirRi7xS4Nl",
        "outputId": "6a6c204f-18b6-446a-ff55-8736195a130b"
      },
      "execution_count": null,
      "outputs": [
        {
          "output_type": "stream",
          "name": "stdout",
          "text": [
            "|   iter    |  target   |     x     |     y     |\n",
            "-------------------------------------------------\n",
            "| \u001b[0m 13      \u001b[0m | \u001b[0m-6.412   \u001b[0m | \u001b[0m 2.409   \u001b[0m | \u001b[0m 2.269   \u001b[0m |\n",
            "| \u001b[0m 14      \u001b[0m | \u001b[0m-3.223   \u001b[0m | \u001b[0m 2.055   \u001b[0m | \u001b[0m 1.023   \u001b[0m |\n",
            "| \u001b[95m 15      \u001b[0m | \u001b[95m-3.006   \u001b[0m | \u001b[95m 2.0     \u001b[0m | \u001b[95m 0.9217  \u001b[0m |\n",
            "| \u001b[0m 16      \u001b[0m | \u001b[0m-3.015   \u001b[0m | \u001b[0m 2.0     \u001b[0m | \u001b[0m 1.121   \u001b[0m |\n",
            "| \u001b[95m 17      \u001b[0m | \u001b[95m-3.0     \u001b[0m | \u001b[95m 2.0     \u001b[0m | \u001b[95m 1.009   \u001b[0m |\n",
            "| \u001b[95m 18      \u001b[0m | \u001b[95m-3.0     \u001b[0m | \u001b[95m 2.0     \u001b[0m | \u001b[95m 1.005   \u001b[0m |\n",
            "=================================================\n"
          ]
        }
      ]
    },
    {
      "cell_type": "code",
      "source": [
        "print(optimizer.max)"
      ],
      "metadata": {
        "colab": {
          "base_uri": "https://localhost:8080/"
        },
        "id": "ZJu3q_wYYkCD",
        "outputId": "373e4683-393f-4fa2-e3f5-b8fb149dfdf9"
      },
      "execution_count": null,
      "outputs": [
        {
          "output_type": "stream",
          "name": "stdout",
          "text": [
            "{'target': -3.002568209315702, 'params': {'x': 2.0, 'y': 1.0506775030531499}}\n"
          ]
        }
      ]
    },
    {
      "cell_type": "code",
      "source": [
        "for i, res in enumerate(optimizer.res):\n",
        "    print(\"Iteration {}: \\n\\t{}\".format(i, res))"
      ],
      "metadata": {
        "colab": {
          "base_uri": "https://localhost:8080/"
        },
        "id": "SL5LgpiiZUVi",
        "outputId": "c05feabb-c8a2-48fc-c762-63f96d699e85"
      },
      "execution_count": null,
      "outputs": [
        {
          "output_type": "stream",
          "name": "stdout",
          "text": [
            "Iteration 0: \n",
            "\t{'target': -7.135455292718879, 'params': {'x': 2.8340440094051482, 'y': 1.3219469606529488}}\n",
            "Iteration 1: \n",
            "\t{'target': -7.779531005607566, 'params': {'x': 2.0002287496346898, 'y': -1.1860045642089614}}\n",
            "Iteration 2: \n",
            "\t{'target': -7.109925819441113, 'params': {'x': 2.2175526295255183, 'y': -0.7867249801593896}}\n",
            "Iteration 3: \n",
            "\t{'target': -12.397162416009818, 'params': {'x': 3.660003815774634, 'y': 0.9608275029525108}}\n",
            "Iteration 4: \n",
            "\t{'target': -6.999472814518675, 'params': {'x': 2.2303920156083024, 'y': -0.7392021938893159}}\n",
            "Iteration 5: \n",
            "\t{'target': -3.047104871722194, 'params': {'x': 2.0, 'y': 0.7829634322926342}}\n",
            "Iteration 6: \n",
            "\t{'target': -4.16613011354625, 'params': {'x': 2.0, 'y': 2.0798750453391586}}\n",
            "Iteration 7: \n",
            "\t{'target': -31.0, 'params': {'x': 4.0, 'y': -3.0}}\n",
            "Iteration 8: \n",
            "\t{'target': -19.0, 'params': {'x': 4.0, 'y': 3.0}}\n",
            "Iteration 9: \n",
            "\t{'target': -3.1339889941409016, 'params': {'x': 2.0, 'y': 1.366045071187827}}\n",
            "Iteration 10: \n",
            "\t{'target': -3.4556127541852533, 'params': {'x': 2.0, 'y': 0.32500907103483717}}\n",
            "Iteration 11: \n",
            "\t{'target': -3.002568209315702, 'params': {'x': 2.0, 'y': 1.0506775030531499}}\n"
          ]
        }
      ]
    },
    {
      "cell_type": "code",
      "source": [
        "optimizer.maximize(\n",
        "    init_points=10,\n",
        "    n_iter=3,\n",
        ")"
      ],
      "metadata": {
        "colab": {
          "base_uri": "https://localhost:8080/"
        },
        "id": "RUBEMJFZS3Ey",
        "outputId": "e508e928-d6cc-4ad0-c6bd-51c836297a83"
      },
      "execution_count": null,
      "outputs": [
        {
          "output_type": "stream",
          "name": "stdout",
          "text": [
            "|   iter    |  target   |     x     |     y     |\n",
            "-------------------------------------------------\n",
            "| \u001b[0m 1       \u001b[0m | \u001b[0m-7.135   \u001b[0m | \u001b[0m 2.834   \u001b[0m | \u001b[0m 1.322   \u001b[0m |\n",
            "| \u001b[0m 2       \u001b[0m | \u001b[0m-7.78    \u001b[0m | \u001b[0m 2.0     \u001b[0m | \u001b[0m-1.186   \u001b[0m |\n",
            "| \u001b[0m 3       \u001b[0m | \u001b[0m-16.13   \u001b[0m | \u001b[0m 2.294   \u001b[0m | \u001b[0m-2.446   \u001b[0m |\n",
            "| \u001b[0m 4       \u001b[0m | \u001b[0m-8.341   \u001b[0m | \u001b[0m 2.373   \u001b[0m | \u001b[0m-0.9266  \u001b[0m |\n",
            "| \u001b[0m 5       \u001b[0m | \u001b[0m-7.392   \u001b[0m | \u001b[0m 2.794   \u001b[0m | \u001b[0m 0.2329  \u001b[0m |\n",
            "| \u001b[95m 6       \u001b[0m | \u001b[95m-7.069   \u001b[0m | \u001b[95m 2.838   \u001b[0m | \u001b[95m 1.111   \u001b[0m |\n",
            "| \u001b[95m 7       \u001b[0m | \u001b[95m-6.412   \u001b[0m | \u001b[95m 2.409   \u001b[0m | \u001b[95m 2.269   \u001b[0m |\n",
            "| \u001b[95m 8       \u001b[0m | \u001b[95m-3.223   \u001b[0m | \u001b[95m 2.055   \u001b[0m | \u001b[95m 1.023   \u001b[0m |\n",
            "| \u001b[0m 9       \u001b[0m | \u001b[0m-7.455   \u001b[0m | \u001b[0m 2.835   \u001b[0m | \u001b[0m 0.3521  \u001b[0m |\n",
            "| \u001b[0m 10      \u001b[0m | \u001b[0m-12.11   \u001b[0m | \u001b[0m 2.281   \u001b[0m | \u001b[0m-1.811   \u001b[0m |\n",
            "| \u001b[0m 11      \u001b[0m | \u001b[0m-3.402   \u001b[0m | \u001b[0m 2.004   \u001b[0m | \u001b[0m 0.3794  \u001b[0m |\n",
            "| \u001b[0m 12      \u001b[0m | \u001b[0m-3.256   \u001b[0m | \u001b[0m 2.0     \u001b[0m | \u001b[0m 1.506   \u001b[0m |\n",
            "| \u001b[95m 13      \u001b[0m | \u001b[95m-3.031   \u001b[0m | \u001b[95m 2.0     \u001b[0m | \u001b[95m 0.8232  \u001b[0m |\n",
            "=================================================\n"
          ]
        }
      ]
    },
    {
      "cell_type": "code",
      "source": [
        "optimizer.maximize(\n",
        "    init_points=2,\n",
        "    n_iter=9,\n",
        ")"
      ],
      "metadata": {
        "colab": {
          "base_uri": "https://localhost:8080/"
        },
        "id": "gZCgoHRZTCdR",
        "outputId": "93d72511-489f-452f-944e-b9abdc981e79"
      },
      "execution_count": null,
      "outputs": [
        {
          "output_type": "stream",
          "name": "stdout",
          "text": [
            "|   iter    |  target   |     x     |     y     |\n",
            "-------------------------------------------------\n",
            "| \u001b[0m 19      \u001b[0m | \u001b[0m-14.95   \u001b[0m | \u001b[0m 3.753   \u001b[0m | \u001b[0m 2.368   \u001b[0m |\n",
            "| \u001b[0m 20      \u001b[0m | \u001b[0m-17.89   \u001b[0m | \u001b[0m 2.17    \u001b[0m | \u001b[0m-2.766   \u001b[0m |\n",
            "| \u001b[95m 21      \u001b[0m | \u001b[95m-3.008   \u001b[0m | \u001b[95m 2.0     \u001b[0m | \u001b[95m 1.089   \u001b[0m |\n",
            "| \u001b[95m 22      \u001b[0m | \u001b[95m-3.0     \u001b[0m | \u001b[95m 2.0     \u001b[0m | \u001b[95m 0.9872  \u001b[0m |\n",
            "| \u001b[95m 23      \u001b[0m | \u001b[95m-3.0     \u001b[0m | \u001b[95m 2.0     \u001b[0m | \u001b[95m 0.9918  \u001b[0m |\n",
            "| \u001b[95m 24      \u001b[0m | \u001b[95m-3.0     \u001b[0m | \u001b[95m 2.0     \u001b[0m | \u001b[95m 0.9939  \u001b[0m |\n",
            "| \u001b[95m 25      \u001b[0m | \u001b[95m-3.0     \u001b[0m | \u001b[95m 2.0     \u001b[0m | \u001b[95m 0.9951  \u001b[0m |\n",
            "| \u001b[95m 26      \u001b[0m | \u001b[95m-3.0     \u001b[0m | \u001b[95m 2.0     \u001b[0m | \u001b[95m 0.996   \u001b[0m |\n",
            "| \u001b[95m 27      \u001b[0m | \u001b[95m-3.0     \u001b[0m | \u001b[95m 2.0     \u001b[0m | \u001b[95m 0.9967  \u001b[0m |\n",
            "| \u001b[95m 28      \u001b[0m | \u001b[95m-3.0     \u001b[0m | \u001b[95m 2.0     \u001b[0m | \u001b[95m 0.9973  \u001b[0m |\n",
            "| \u001b[95m 29      \u001b[0m | \u001b[95m-3.0     \u001b[0m | \u001b[95m 2.0     \u001b[0m | \u001b[95m 0.9979  \u001b[0m |\n",
            "=================================================\n"
          ]
        }
      ]
    },
    {
      "cell_type": "code",
      "source": [
        "print(optimizer.max)"
      ],
      "metadata": {
        "id": "ScLtvAkDTJzn",
        "outputId": "201a0031-1064-4019-af72-1155b105abb0",
        "colab": {
          "base_uri": "https://localhost:8080/"
        }
      },
      "execution_count": null,
      "outputs": [
        {
          "output_type": "stream",
          "name": "stdout",
          "text": [
            "{'target': -3.0000045856329853, 'params': {'x': 2.0, 'y': 0.9978585908879261}}\n"
          ]
        }
      ]
    },
    {
      "cell_type": "markdown",
      "source": [
        "2.1 범위 수정"
      ],
      "metadata": {
        "id": "_8Xf7gnHVEBC"
      }
    },
    {
      "cell_type": "code",
      "source": [
        "optimizer.set_bounds(new_bounds={\"x\": (-2, 3)})"
      ],
      "metadata": {
        "id": "JoZJ1FSKVGrM"
      },
      "execution_count": null,
      "outputs": []
    },
    {
      "cell_type": "code",
      "source": [
        "optimizer.maximize(\n",
        "    init_points=0,\n",
        "    n_iter=5,\n",
        ")"
      ],
      "metadata": {
        "colab": {
          "base_uri": "https://localhost:8080/"
        },
        "id": "1Dc4i1wzVJ6S",
        "outputId": "5e30e8e3-25a9-4776-f564-8844810fe756"
      },
      "execution_count": null,
      "outputs": [
        {
          "output_type": "stream",
          "name": "stdout",
          "text": [
            "|   iter    |  target   |     x     |     y     |\n",
            "-------------------------------------------------\n",
            "| \u001b[0m 30      \u001b[0m | \u001b[0m-3.207   \u001b[0m | \u001b[0m-2.0     \u001b[0m | \u001b[0m 1.455   \u001b[0m |\n",
            "| \u001b[95m 31      \u001b[0m | \u001b[95m 0.3942  \u001b[0m | \u001b[95m-0.2744  \u001b[0m | \u001b[95m 0.2716  \u001b[0m |\n",
            "| \u001b[0m 32      \u001b[0m | \u001b[0m 0.2818  \u001b[0m | \u001b[0m-0.09151 \u001b[0m | \u001b[0m 1.842   \u001b[0m |\n",
            "| \u001b[95m 33      \u001b[0m | \u001b[95m 0.9395  \u001b[0m | \u001b[95m 0.2413  \u001b[0m | \u001b[95m 0.952   \u001b[0m |\n",
            "| \u001b[0m 34      \u001b[0m | \u001b[0m 0.9011  \u001b[0m | \u001b[0m-0.3118  \u001b[0m | \u001b[0m 1.041   \u001b[0m |\n",
            "=================================================\n"
          ]
        }
      ]
    },
    {
      "cell_type": "markdown",
      "source": [
        "3 최적확 Guid\n",
        "* 파라미터 공간에 아이디어가 있는 경우\n",
        "  * probe(탐색)\n",
        "  * 기본적으로 lazy=True로 탐색\n",
        "  * 다음에 maximize를 호출할 때 평가함\n",
        "* 파라미터를 딕셔너리로 넘길 수 있음"
      ],
      "metadata": {
        "id": "1Zo2Eua0VL-r"
      }
    },
    {
      "cell_type": "code",
      "source": [
        "optimizer.probe(\n",
        "    params={\"x\": 0.5, \"y\": 0.7},\n",
        "    lazy=True,\n",
        ")"
      ],
      "metadata": {
        "id": "3s-1zpRZVKf7"
      },
      "execution_count": null,
      "outputs": []
    },
    {
      "cell_type": "code",
      "source": [],
      "metadata": {
        "id": "PKq8OqFcVYHD"
      },
      "execution_count": null,
      "outputs": []
    },
    {
      "cell_type": "markdown",
      "source": [
        "# 참고자료\n",
        "* [Bayesian Optimization](https://github.com/fmfn/BayesianOptimization)\n",
        "* [베이지안 최적화](https://notebook.community/zzsza/TIL/python/bayesian-optimization)"
      ],
      "metadata": {
        "id": "a8cyXFQmVerE"
      }
    }
  ]
}